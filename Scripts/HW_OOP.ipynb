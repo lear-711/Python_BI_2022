{
 "cells": [
  {
   "cell_type": "markdown",
   "id": "7c5a538f-2dbe-445c-9f46-cf0dc18867e4",
   "metadata": {},
   "source": [
    "# Задание 1 (5 баллов)"
   ]
  },
  {
   "cell_type": "markdown",
   "id": "1e8cc3b0-6f60-40da-8058-30d9eb434daf",
   "metadata": {},
   "source": [
    "Напишите классы **Chat**, **Message** и **User**. Они должны соответствовать следующим требованиям:\n",
    "\n",
    "**Chat**:\n",
    "+ Должен иметь атрибут `chat_history`, где будут храниться все сообщения (`Message`) в обратном хронологическом порядке (сначала новые, затем старые)\n",
    "+ Должен иметь метод `show_last_message`, выводящий на экран информацию о последнем сообщении\n",
    "+ Должен иметь метод `get_history_from_time_period`, который принимает два опциональных аргумента (даты с которой и по какую мы ищем сообщения и выдаём их). Метод также должен возвращать объект типа `Chat`\n",
    "+ Должен иметь метод `show_chat`, выводящий на экран все сообщения (каждое сообщение в таком же виде как и `show_last_message`, но с разделителем между ними)\n",
    "+ Должен иметь метод `recieve`, который будет принимать сообщение и добавлять его в чат\n",
    "\n",
    "**Message**:\n",
    "+ Должен иметь три обязательных атрибута\n",
    "    + `text` - текст сообщения\n",
    "    + `datetime` - дата и время сообщения (встроенный модуль datetime вам в помощь). Важно! Это должна быть не дата создания сообщения, а дата его попадания в чат! \n",
    "    + `user` - информация о пользователе, который оставил сообщение (какой тип данных использовать здесь, разберётесь сами)\n",
    "+ Должен иметь метод `show`, который печатает или возвращает информацию о сообщении с необходимой информацией (дата, время, юзер, текст)\n",
    "+ Должен иметь метод `send`, который будет отправлять сообщение в чат\n",
    "\n",
    "**User**:\n",
    "+ Класс с информацией о юзере, наполнение для этого класса придумайте сами\n",
    "\n",
    "Напишите несколько примеров использования кода, которое показывает взаимодействие между объектами.\n",
    "\n",
    "В тексте задания намерено не указано, какие аргументы должны принимать методы, пускай вам в этом поможет здравый смысл)\n",
    "\n",
    "В этом задании не стоит флексить всякими продвинутыми штуками, для этого есть последующие\n",
    "\n",
    "В этом задании можно использовать только модуль `datetime`"
   ]
  },
  {
   "cell_type": "code",
   "execution_count": 1,
   "id": "881f5008",
   "metadata": {},
   "outputs": [],
   "source": [
    "import datetime"
   ]
  },
  {
   "cell_type": "code",
   "execution_count": 2,
   "id": "d14ce6ca-7294-492c-8a01-3f7547680474",
   "metadata": {},
   "outputs": [],
   "source": [
    "class Chat:\n",
    "    def __init__(self, chat_history, chat_history_time_period):\n",
    "        self.chat_history = chat_history\n",
    "        self.chat_history_time_period = chat_history_time_period\n",
    "        \n",
    "    def show_last_message(self):\n",
    "        self.chat_history[0].show()\n",
    "    \n",
    "    def get_history_from_time_period(self, first_date, last_date):\n",
    "        for message in range(len(self.chat_history)):\n",
    "            if (self.chat_history[message].datetime > first_date) and (self.chat_history[message].datetime < last_date):\n",
    "                self.chat_history_time_period.insert(0, self.chat_history[message])\n",
    "                self.chat_history[message].show()\n",
    "                print(\"\\n–––––––––––\\n\")\n",
    "        return self.chat_history_time_period\n",
    "    \n",
    "    \n",
    "    def show_chat(self):\n",
    "        for message in self.chat_history:\n",
    "            message.show()\n",
    "            print(\"\\n–––––––––––\\n\")\n",
    "    \n",
    "    def recieve(self, message):\n",
    "        message.send()\n",
    "        self.chat_history.insert(0, message) \n",
    "    \n",
    "\n",
    "\n",
    "class Message:\n",
    "    def __init__(self, text, datetime, user):\n",
    "        self.text = text\n",
    "        self.datetime = datetime\n",
    "        self.user = user\n",
    "        \n",
    "    def show(self):\n",
    "        showed_message = f'Message: {self.text}, \\nDate and time: {self.datetime}, \\nUser: {self.user}'\n",
    "        print(showed_message)\n",
    "#         return showed_message\n",
    "    \n",
    "    def send(self):\n",
    "        self.datetime = datetime.datetime.now()\n",
    "        return self\n",
    "    \n",
    "\n",
    "\n",
    "class User:\n",
    "    def __init__(self, name, login, age):\n",
    "        self.name = name\n",
    "        self.login = login\n",
    "        self.age = age\n",
    "    \n",
    "    def __repr__(self):\n",
    "        return f\"name: {self.name} | login: {self.login} | age {self.age}\"\n",
    "    "
   ]
  },
  {
   "cell_type": "markdown",
   "id": "11e72f82",
   "metadata": {},
   "source": [
    "### Примеры использования:"
   ]
  },
  {
   "cell_type": "markdown",
   "id": "d075fd55",
   "metadata": {},
   "source": [
    "#### Пример 1: Receive messages to chat, show it and show last message"
   ]
  },
  {
   "cell_type": "code",
   "execution_count": 3,
   "id": "c8ee096d",
   "metadata": {},
   "outputs": [],
   "source": [
    "chat_1 = Chat(chat_history = [], chat_history_time_period = [])"
   ]
  },
  {
   "cell_type": "code",
   "execution_count": 4,
   "id": "dcdd7230",
   "metadata": {},
   "outputs": [],
   "source": [
    "user_1 = User(name = 'Ann', login = 'Anuta_wow', age = 19)\n",
    "user_2 = User(name = 'Max', login = 'Maximus', age = 22)\n",
    "user_3 = User(name = 'Jack', login = 'King_Jack', age = 15)"
   ]
  },
  {
   "cell_type": "code",
   "execution_count": 5,
   "id": "c6208089",
   "metadata": {},
   "outputs": [],
   "source": [
    "message_1 = Message(text = 'Hello! How are you?', datetime = datetime.datetime.now(), user = user_1)\n",
    "message_2 = Message(text = 'My homework is hard(', datetime = datetime.datetime.now(), user = user_2)\n",
    "message_3 = Message(text = 'I am going for a walk', datetime = datetime.datetime.now(), user = user_3)"
   ]
  },
  {
   "cell_type": "code",
   "execution_count": 6,
   "id": "23be1be1",
   "metadata": {},
   "outputs": [],
   "source": [
    "chat_1.recieve(message_1)"
   ]
  },
  {
   "cell_type": "code",
   "execution_count": 7,
   "id": "99172f0f",
   "metadata": {},
   "outputs": [],
   "source": [
    "chat_1.recieve(message_2)"
   ]
  },
  {
   "cell_type": "code",
   "execution_count": 8,
   "id": "40e58024",
   "metadata": {},
   "outputs": [],
   "source": [
    "chat_1.recieve(message_3)"
   ]
  },
  {
   "cell_type": "code",
   "execution_count": 9,
   "id": "e49e0178",
   "metadata": {},
   "outputs": [
    {
     "name": "stdout",
     "output_type": "stream",
     "text": [
      "Message: I am going for a walk, \n",
      "Date and time: 2023-02-24 01:21:53.193908, \n",
      "User: name: Jack | login: King_Jack | age 15\n",
      "\n",
      "–––––––––––\n",
      "\n",
      "Message: My homework is hard(, \n",
      "Date and time: 2023-02-24 01:21:52.529421, \n",
      "User: name: Max | login: Maximus | age 22\n",
      "\n",
      "–––––––––––\n",
      "\n",
      "Message: Hello! How are you?, \n",
      "Date and time: 2023-02-24 01:21:50.210679, \n",
      "User: name: Ann | login: Anuta_wow | age 19\n",
      "\n",
      "–––––––––––\n",
      "\n"
     ]
    }
   ],
   "source": [
    "chat_1.show_chat()"
   ]
  },
  {
   "cell_type": "markdown",
   "id": "d0ecd0e0",
   "metadata": {},
   "source": [
    "#### Пример 2: Show different messages"
   ]
  },
  {
   "cell_type": "code",
   "execution_count": 10,
   "id": "3e1a5293",
   "metadata": {},
   "outputs": [
    {
     "name": "stdout",
     "output_type": "stream",
     "text": [
      "Message: Hello! How are you?, \n",
      "Date and time: 2023-02-24 01:21:50.210679, \n",
      "User: name: Ann | login: Anuta_wow | age 19\n"
     ]
    }
   ],
   "source": [
    "message_1.show()"
   ]
  },
  {
   "cell_type": "code",
   "execution_count": 11,
   "id": "445dd4f4",
   "metadata": {},
   "outputs": [
    {
     "name": "stdout",
     "output_type": "stream",
     "text": [
      "Message: I am going for a walk, \n",
      "Date and time: 2023-02-24 01:21:53.193908, \n",
      "User: name: Jack | login: King_Jack | age 15\n"
     ]
    }
   ],
   "source": [
    "message_3.show()"
   ]
  },
  {
   "cell_type": "markdown",
   "id": "9a70dc42",
   "metadata": {},
   "source": [
    "#### Пример 3: Show last message"
   ]
  },
  {
   "cell_type": "code",
   "execution_count": 12,
   "id": "bec7ded6",
   "metadata": {},
   "outputs": [
    {
     "name": "stdout",
     "output_type": "stream",
     "text": [
      "Message: I am going for a walk, \n",
      "Date and time: 2023-02-24 01:21:53.193908, \n",
      "User: name: Jack | login: King_Jack | age 15\n"
     ]
    }
   ],
   "source": [
    "chat_1.show_last_message()"
   ]
  },
  {
   "cell_type": "markdown",
   "id": "9118869e",
   "metadata": {},
   "source": [
    "#### Пример 4: Get history from time period"
   ]
  },
  {
   "cell_type": "code",
   "execution_count": 13,
   "id": "b896caee",
   "metadata": {},
   "outputs": [],
   "source": [
    "chat_1 = Chat(chat_history = [], chat_history_time_period = [])\n",
    "\n",
    "user_1 = User(name = 'Ann', login = 'Anuta_wow', age = 19)\n",
    "user_2 = User(name = 'Max', login = 'Maximus', age = 22)\n",
    "user_3 = User(name = 'Jack', login = 'King_Jack', age = 15)\n",
    "\n",
    "message_1 = Message(text = 'Hello! How are you?', datetime = datetime.datetime.now(), user = user_1)\n",
    "message_2 = Message(text = 'My homework is hard(', datetime = datetime.datetime.now(), user = user_2)\n",
    "message_3 = Message(text = 'I am going for a walk', datetime = datetime.datetime.now(), user = user_3)"
   ]
  },
  {
   "cell_type": "code",
   "execution_count": 14,
   "id": "ba2e22e2",
   "metadata": {},
   "outputs": [],
   "source": [
    "chat_1.recieve(message_1)"
   ]
  },
  {
   "cell_type": "markdown",
   "id": "d402b534",
   "metadata": {},
   "source": [
    "После добавления первого сообщения в чат фиксируем дату и время, начиная с которой будем будем искать сообщения (то есть первое сообщение не должно попасть в этот промежуток)"
   ]
  },
  {
   "cell_type": "code",
   "execution_count": 15,
   "id": "4a555eef",
   "metadata": {},
   "outputs": [],
   "source": [
    "date_1 = datetime.datetime.now()"
   ]
  },
  {
   "cell_type": "markdown",
   "id": "08a596c4",
   "metadata": {},
   "source": [
    "Добавляем в чат еще 2 сообщения:"
   ]
  },
  {
   "cell_type": "code",
   "execution_count": 16,
   "id": "9823789a",
   "metadata": {},
   "outputs": [],
   "source": [
    "chat_1.recieve(message_2)"
   ]
  },
  {
   "cell_type": "code",
   "execution_count": 17,
   "id": "482801fb",
   "metadata": {},
   "outputs": [],
   "source": [
    "chat_1.recieve(message_3)"
   ]
  },
  {
   "cell_type": "markdown",
   "id": "9aa0080e",
   "metadata": {},
   "source": [
    "Фиксируем вторую дату:"
   ]
  },
  {
   "cell_type": "code",
   "execution_count": 18,
   "id": "23f206c1",
   "metadata": {},
   "outputs": [],
   "source": [
    "date_2 = datetime.datetime.now()"
   ]
  },
  {
   "cell_type": "markdown",
   "id": "66279f3a",
   "metadata": {},
   "source": [
    "Смотрим сообщения, входящие в данный временной промежуток:"
   ]
  },
  {
   "cell_type": "code",
   "execution_count": 19,
   "id": "ac832ba5",
   "metadata": {},
   "outputs": [
    {
     "name": "stdout",
     "output_type": "stream",
     "text": [
      "Message: I am going for a walk, \n",
      "Date and time: 2023-02-24 01:22:21.809905, \n",
      "User: name: Jack | login: King_Jack | age 15\n",
      "\n",
      "–––––––––––\n",
      "\n",
      "Message: My homework is hard(, \n",
      "Date and time: 2023-02-24 01:22:20.913596, \n",
      "User: name: Max | login: Maximus | age 22\n",
      "\n",
      "–––––––––––\n",
      "\n"
     ]
    },
    {
     "data": {
      "text/plain": [
       "[<__main__.Message at 0x1052521a0>, <__main__.Message at 0x105252860>]"
      ]
     },
     "execution_count": 19,
     "metadata": {},
     "output_type": "execute_result"
    }
   ],
   "source": [
    "chat_1.get_history_from_time_period(date_1, date_2)"
   ]
  },
  {
   "cell_type": "markdown",
   "id": "5401b883",
   "metadata": {},
   "source": [
    "Вывелись только сообщения 2 и 3 и вернулся объект типа Chat"
   ]
  },
  {
   "cell_type": "markdown",
   "id": "a59aa1b3-4c93-480e-a09f-e57df34eb60a",
   "metadata": {},
   "source": [
    "# Задание 2 (3 балла)"
   ]
  },
  {
   "cell_type": "markdown",
   "id": "ab07eb69-877f-4c38-8c7d-88beae20071b",
   "metadata": {},
   "source": [
    "В питоне как-то слишком типично и неинтересно происходят вызовы функций. Напишите класс `Args`, который будет хранить в себе аргументы, а функции можно будет вызывать при помощи следующего синтаксиса.\n",
    "\n",
    "Использовать любые модули **нельзя**, да и вряд-ли это как-то поможет)"
   ]
  },
  {
   "cell_type": "code",
   "execution_count": 20,
   "id": "d73d6b31-c15a-4ae6-ad9b-b3fdab88efed",
   "metadata": {},
   "outputs": [],
   "source": [
    "class Args:\n",
    "    \n",
    "    def __init__(self, *args, **kwargs):\n",
    "        self.args = args\n",
    "        self.kwargs = kwargs\n",
    "    \n",
    "    def __rlshift__(self, other):\n",
    "        return other(*self.args, **self.kwargs)"
   ]
  },
  {
   "cell_type": "code",
   "execution_count": 21,
   "id": "55afedbb-4725-4078-bd98-bf803be0bf93",
   "metadata": {},
   "outputs": [
    {
     "data": {
      "text/plain": [
       "3"
      ]
     },
     "execution_count": 21,
     "metadata": {},
     "output_type": "execute_result"
    }
   ],
   "source": [
    "sum << Args([1, 2])"
   ]
  },
  {
   "cell_type": "code",
   "execution_count": 22,
   "id": "c37f0728-9bdc-469e-a5b8-3ab5aa43a731",
   "metadata": {},
   "outputs": [
    {
     "data": {
      "text/plain": [
       "53"
      ]
     },
     "execution_count": 22,
     "metadata": {},
     "output_type": "execute_result"
    }
   ],
   "source": [
    "(lambda a, b, c: a**2 + b + c) << Args(1, 2, c=50)"
   ]
  },
  {
   "cell_type": "markdown",
   "id": "d6915eaf-92fe-460b-bf9b-06ccf55b093f",
   "metadata": {},
   "source": [
    "# Задание 3 (5 баллов)"
   ]
  },
  {
   "cell_type": "markdown",
   "id": "5a588ef8-8af6-42b6-972b-3c716a604c34",
   "metadata": {},
   "source": [
    "Сделайте класс наследник `float`. Он должен вести себя как `float`, но также должен обладать некоторыми особенностями:\n",
    "+ При получении атрибутов формата `<действие>_<число>` мы получаем результат такого действия над нашим числом\n",
    "+ Создавать данные атрибуты в явном виде, очевидно, не стоит\n",
    "\n",
    "Подсказка: если в процессе гуглёжки, вы выйдете на такую тему как **\"Дескрипторы\", то это НЕ то, что вам сейчас нужно**\n",
    "\n",
    "Примеры использования ниже"
   ]
  },
  {
   "cell_type": "code",
   "execution_count": 23,
   "id": "61cb63a2-90ac-4b79-97a5-bb0496262e32",
   "metadata": {},
   "outputs": [],
   "source": [
    "class StrangeFloat(float):\n",
    "    def __init__(self, value):\n",
    "        self.value = value\n",
    "    \n",
    "    def __getattribute__(self, attribute):\n",
    "        if (\"add\" in attribute) or (\"subtract\" in attribute) or (\"multiply\" in attribute) or (\"divide\" in attribute):\n",
    "            [action, value] = attribute.split(\"_\")\n",
    "            tmp = self.value\n",
    "            if action == \"add\":\n",
    "                tmp += float(value)\n",
    "            if action == \"subtract\":\n",
    "                tmp -= float(value)\n",
    "            if action == \"multiply\":\n",
    "                tmp *= float(value)\n",
    "            if action == \"divide\":\n",
    "                tmp /= float(value)\n",
    "            result = StrangeFloat(tmp)\n",
    "            return result\n",
    "        else:\n",
    "            return super().__getattribute__(attribute)"
   ]
  },
  {
   "cell_type": "code",
   "execution_count": 24,
   "id": "f730c9c0-7d90-4037-97c6-e926dcbc1ea3",
   "metadata": {},
   "outputs": [],
   "source": [
    "number = StrangeFloat(3.5)"
   ]
  },
  {
   "cell_type": "code",
   "execution_count": 25,
   "id": "b2756368-a489-486d-a0f1-244697f8503c",
   "metadata": {},
   "outputs": [
    {
     "data": {
      "text/plain": [
       "4.5"
      ]
     },
     "execution_count": 25,
     "metadata": {},
     "output_type": "execute_result"
    }
   ],
   "source": [
    "number.add_1"
   ]
  },
  {
   "cell_type": "code",
   "execution_count": 26,
   "id": "c6799592-3cb6-4c7d-af62-9c0a48a76c1d",
   "metadata": {},
   "outputs": [
    {
     "data": {
      "text/plain": [
       "-16.5"
      ]
     },
     "execution_count": 26,
     "metadata": {},
     "output_type": "execute_result"
    }
   ],
   "source": [
    "number.subtract_20"
   ]
  },
  {
   "cell_type": "code",
   "execution_count": 27,
   "id": "130027b5-017a-4c70-b072-1fdc6acf670f",
   "metadata": {},
   "outputs": [
    {
     "data": {
      "text/plain": [
       "17.5"
      ]
     },
     "execution_count": 27,
     "metadata": {},
     "output_type": "execute_result"
    }
   ],
   "source": [
    "number.multiply_5"
   ]
  },
  {
   "cell_type": "code",
   "execution_count": 28,
   "id": "2b901e5c-5a51-4788-b15b-9b20a074e1a4",
   "metadata": {},
   "outputs": [
    {
     "data": {
      "text/plain": [
       "0.14"
      ]
     },
     "execution_count": 28,
     "metadata": {},
     "output_type": "execute_result"
    }
   ],
   "source": [
    "number.divide_25"
   ]
  },
  {
   "cell_type": "code",
   "execution_count": 29,
   "id": "ea52c492-b0ce-4d73-8aba-a0ea51ed0b60",
   "metadata": {},
   "outputs": [
    {
     "data": {
      "text/plain": [
       "-4.125"
      ]
     },
     "execution_count": 29,
     "metadata": {},
     "output_type": "execute_result"
    }
   ],
   "source": [
    "number.add_1.add_2.multiply_6.divide_8.subtract_9"
   ]
  },
  {
   "cell_type": "code",
   "execution_count": 30,
   "id": "e26ef411-a5df-46c7-bb9d-e77a1fad3cec",
   "metadata": {},
   "outputs": [
    {
     "data": {
      "text/plain": [
       "1.0"
      ]
     },
     "execution_count": 30,
     "metadata": {},
     "output_type": "execute_result"
    }
   ],
   "source": [
    "getattr(number, \"add_-2.5\")   # Используем getattr, так как не можем написать number.add_-2.5 - это SyntaxError"
   ]
  },
  {
   "cell_type": "code",
   "execution_count": 31,
   "id": "7a57bb29-1105-4df1-a4c4-5fbf62eef11d",
   "metadata": {},
   "outputs": [
    {
     "data": {
      "text/plain": [
       "11.5"
      ]
     },
     "execution_count": 31,
     "metadata": {},
     "output_type": "execute_result"
    }
   ],
   "source": [
    "number + 8   # Стандартные для float операции работают также"
   ]
  },
  {
   "cell_type": "code",
   "execution_count": 32,
   "id": "f0246b31-c55a-4bb8-ac15-46509bd8b340",
   "metadata": {},
   "outputs": [
    {
     "data": {
      "text/plain": [
       "(7, 2)"
      ]
     },
     "execution_count": 32,
     "metadata": {},
     "output_type": "execute_result"
    }
   ],
   "source": [
    "number.as_integer_ratio()   # Стандартные для float операции работают также  (это встроенный метод float, писать его НЕ НАДО)"
   ]
  },
  {
   "cell_type": "markdown",
   "id": "3635bceb-723c-4b2f-82e3-269bd914c46c",
   "metadata": {},
   "source": [
    "# Задание 4 (3 балла)"
   ]
  },
  {
   "cell_type": "markdown",
   "id": "31d35f82-1e20-4bf5-b896-7b8163f8386f",
   "metadata": {},
   "source": [
    "В данном задании мы немного отдохнём и повеселимся. От вас требуется заменить в данном коде максимально возможное количество синтаксических конструкций на вызовы dunder методов, dunder атрибутов и dunder переменных.\n",
    "\n",
    "Маленькая заметка: полностью всё заменить невозможно. Например, `function()` можно записать как `function.__call__()`, но при этом мы всё ещё не избавляемся от скобочек, так что можно делать так до бесконечности `function.__call__.__call__.__call__.__call__.....__call__()` и при всём при этом мы ещё не избавляемся от `.` для доступа к атрибутам. В общем, замените всё, что получится, не закапываясь в повторы, как в приведённом примере. Чем больше разных методов вы найдёте и используете, тем лучше и тем выше будет балл\n",
    "\n",
    "Код по итогу дожен работать и печатать число **4420.0**, как в примере. Структуру кода менять нельзя, просто изменяем конструкции на синонимичные\n",
    "\n",
    "И ещё маленькая подсказка. Заменить здесь можно всё кроме:\n",
    "+ Конструкции `for ... in ...`:\n",
    "+ Синтаксиса создания лямбда функции\n",
    "+ Оператора присваивания `=`\n",
    "+ Конструкции `if-else`"
   ]
  },
  {
   "cell_type": "code",
   "execution_count": 33,
   "id": "a87cff2a-7168-470d-b38f-1cb5a60ac0c4",
   "metadata": {},
   "outputs": [
    {
     "name": "stdout",
     "output_type": "stream",
     "text": [
      "4420.0\n"
     ]
    }
   ],
   "source": [
    "import numpy as np\n",
    "\n",
    "\n",
    "matrix = []\n",
    "for idx in range(0, 100, 10):\n",
    "    matrix += [list(range(idx, idx + 10))]\n",
    "    \n",
    "selected_columns_indices = list(filter(lambda x: x in range(1, 5, 2), range(len(matrix))))\n",
    "selected_columns = map(lambda x: [x[col] for col in selected_columns_indices], matrix)\n",
    "\n",
    "arr = np.array(list(selected_columns))\n",
    "\n",
    "mask = arr[:, 1] % 3 == 0\n",
    "new_arr = arr[mask]\n",
    "\n",
    "product = new_arr @ new_arr.T\n",
    "\n",
    "if (product[0] < 1000).all() and (product[2] > 1000).any():\n",
    "    print(product.mean())"
   ]
  },
  {
   "cell_type": "code",
   "execution_count": 34,
   "id": "9e29cc00-c8db-4cc4-a93b-2908352d9344",
   "metadata": {},
   "outputs": [
    {
     "name": "stdout",
     "output_type": "stream",
     "text": [
      "4420.0\n"
     ]
    }
   ],
   "source": [
    "import numpy as np\n",
    "\n",
    "\n",
    "matrix = []\n",
    "for idx in range(0, 100, 10):\n",
    "    matrix.__iadd__([list(range(idx, idx.__add__(10)))])\n",
    "    \n",
    "selected_columns_indices = list(filter(lambda x: range(1, 5, 2).__contains__(x), range(len(matrix))))\n",
    "selected_columns = map(lambda x: [x.__getitem__(col) for col in selected_columns_indices], matrix)\n",
    "\n",
    "arr = np.array(list(selected_columns))\n",
    "\n",
    "mask = arr[:, 1].__mod__(3).__eq__(0)\n",
    "new_arr = arr.__getitem__(mask)\n",
    "\n",
    "product = new_arr.__matmul__(new_arr.T)\n",
    "\n",
    "if (product.__getitem__(0).__lt__(1000)).all().__and__((product.__getitem__(2).__gt__(1000)).any()):\n",
    "    print(product.mean())"
   ]
  },
  {
   "cell_type": "markdown",
   "id": "e90e5938-cabe-4ee1-9a88-73f25b3b67c3",
   "metadata": {},
   "source": [
    "# Задание 5 (10 баллов)"
   ]
  },
  {
   "cell_type": "markdown",
   "id": "0e58f6a8-7bb8-45f0-b14d-3bcd1f1ba5a9",
   "metadata": {},
   "source": [
    "Напишите абстрактный класс `BiologicalSequence`, который задаёт следующий интерфейс:\n",
    "+ Работа с функцией `len`\n",
    "+ Возможность получать элементы по индексу и делать срезы последовательности (аналогично строкам)\n",
    "+ Вывод на печать в удобном виде и возможность конвертации в строку\n",
    "+ Возможность проверить алфавит последовательности на корректность\n",
    "\n",
    "Напишите класс `NucleicAcidSequence`:\n",
    "+ Данный класс реализует интерфейс `BiologicalSequence`\n",
    "+ Данный класс имеет новый метод `complement`, возвращающий комплементарную последовательность\n",
    "+ Данный класс имеет новый метод `gc_content`, возвращающий GC-состав (без разницы, в процентах или в долях)\n",
    "\n",
    "Напишите классы наследники `NucleicAcidSequence`: `DNASequence` и `RNASequence`\n",
    "+ `DNASequence` должен иметь метод `transcribe`, возвращающий транскрибированную РНК-последовательность\n",
    "+ Данные классы не должны иметь <ins>публичных методов</ins> `complement` и метода для проверки алфавита, так как они уже должны быть реализованы в `NucleicAcidSequence`.\n",
    "\n",
    "Напишите класс `AminoAcidSequence`:\n",
    "+ Данный класс реализует интерфейс `BiologicalSequence`\n",
    "+ Добавьте этому классу один любой метод, подходящий по смыслу к аминокислотной последовательности. Например, метод для нахождения изоэлектрической точки, молекулярного веса и т.д.\n",
    "\n",
    "Комментарий по поводу метода `NucleicAcidSequence.complement`, так как я хочу, чтобы вы сделали его опредедённым образом:\n",
    "\n",
    "При вызове `dna.complement()` или условного `dna.check_alphabet()` должны будут вызываться соответствующие методы из `NucleicAcidSequence`. При этом, данный метод должен обладать свойством полиморфизма, иначе говоря, внутри `complement` не надо делать условия а-ля `if seuqence_type == \"DNA\": return self.complement_dna()`, это крайне не гибко. Данный метод должен опираться на какой-то общий интерфейс между ДНК и РНК. Создание экземпляров `NucleicAcidSequence` не подразумевается, поэтому код `NucleicAcidSequence(\"ATGC\").complement()` не обязан работать, а в идеале должен кидать исключение `NotImplementedError` при вызове от экземпляра `NucleicAcidSequence`\n",
    "\n",
    "Вся сложность задания в том, чтобы правильно организовать код. Если у вас есть повторяющийся код в сестринских классах или родительском и дочернем, значит вы что-то делаете не так.\n",
    "\n",
    "\n",
    "Маленькое замечание: По-хорошему, между классом `BiologicalSequence` и классами `NucleicAcidSequence` и `AminoAcidSequence`, ещё должен быть класс-прослойка, частично реализующий интерфейс `BiologicalSequence`, но его писать не обязательно, так как задание и так довольно большое (правда из-за этого у вас неминуемо возникнет повторяющийся код в классах `NucleicAcidSequence` и `AminoAcidSequence`)"
   ]
  },
  {
   "cell_type": "code",
   "execution_count": 35,
   "id": "f17d5d3f-9982-4271-a987-3af7bc071c42",
   "metadata": {},
   "outputs": [],
   "source": [
    "from abc import ABC, abstractmethod\n",
    "\n",
    "\n",
    "class BiologicalSequence(ABC):\n",
    "    \n",
    "    @abstractmethod\n",
    "    def __len__():\n",
    "        pass\n",
    "    \n",
    "    @abstractmethod\n",
    "    def __getitem__():\n",
    "        pass\n",
    "    \n",
    "    @abstractmethod\n",
    "    def __repr__():\n",
    "        pass\n",
    "    \n",
    "    @abstractmethod\n",
    "    def check_alphabet():\n",
    "        pass\n",
    "    \n",
    "    \n",
    "    def __getattribute__(self, attribute):\n",
    "        if \"forbiden_methods\" in attribute:\n",
    "            try:\n",
    "                return super().__getattribute__(attribute)\n",
    "            except AttributeError:\n",
    "                return []\n",
    "        forbiden_methods = self._forbiden_methods\n",
    "        for method in forbiden_methods:\n",
    "            if method in attribute:\n",
    "                raise NotImplementedError(f\"Method {attribute}() is forbiden\")\n",
    "        return super().__getattribute__(attribute)"
   ]
  },
  {
   "cell_type": "code",
   "execution_count": 36,
   "id": "7063b3df",
   "metadata": {},
   "outputs": [],
   "source": [
    "class NucleicAcidSequence(BiologicalSequence):\n",
    "    \n",
    "    def __init__(self, sequence):\n",
    "        self.sequence = sequence\n",
    "        self._forbiden_methods = [\"complement\", \"check_alphabet\"]\n",
    "    \n",
    "    \n",
    "    def __len__(self):\n",
    "        return len(self.sequence)\n",
    "    \n",
    "    \n",
    "    def __getitem__(self, slc):\n",
    "        return self.sequence[slc]\n",
    "    \n",
    "    \n",
    "    def __repr__(self):\n",
    "        return self.sequence\n",
    "    \n",
    "    \n",
    "    def check_alphabet(self):\n",
    "        self.sequence = self.sequence.upper()\n",
    "        true_seq = 'AGTC'\n",
    "        if set(self.sequence) <= set(true_seq):\n",
    "            print('It is okey!')\n",
    "        else:\n",
    "            raise AlphabetError(f'{self.sequence} is not a true biological nucleotide sequence!')\n",
    "    \n",
    "    def complement(self):\n",
    "        self.sequence = self.sequence.upper()\n",
    "        complement_dict = {'A':'T', 'T':'A', 'C':'G', 'G':'C'}\n",
    "        seq_complemented = ''\n",
    "        for i in self.sequence:\n",
    "            seq_complemented += str(complement_dict.get(i))\n",
    "        return seq_complemented\n",
    "    \n",
    "    def gc_content(self):\n",
    "        self.sequence = self.sequence.upper()\n",
    "        len_seq = len(self.sequence)\n",
    "        count_gc = self.sequence.count('G') + self.sequence.count('C')\n",
    "        result_gc = round(count_gc/len_seq, 3)\n",
    "        return result_gc\n"
   ]
  },
  {
   "cell_type": "code",
   "execution_count": 40,
   "id": "4b874489",
   "metadata": {},
   "outputs": [],
   "source": [
    "class DNASequence(NucleicAcidSequence):\n",
    "    \n",
    "    def __init__(self, sequence):\n",
    "        self.sequence = sequence\n",
    "    \n",
    "    def transcribe(self):\n",
    "        self.sequence = self.sequence.upper()\n",
    "        transcribe_dict = {'A':'A', 'T':'U', 'C':'C', 'G':'G'}\n",
    "        seq_transcribed = ''\n",
    "        for i in self.sequence:\n",
    "            seq_transcribed += str(transcribe_dict.get(i))\n",
    "        print(seq_transcribed)\n",
    "        \n",
    "\n",
    "class RNASequence(NucleicAcidSequence):\n",
    "    \n",
    "    def __init__(self, sequence):\n",
    "        self.sequence = sequence\n"
   ]
  },
  {
   "cell_type": "code",
   "execution_count": 43,
   "id": "024e3d77",
   "metadata": {},
   "outputs": [],
   "source": [
    "class AminoAcidSequence(BiologicalSequence):\n",
    "    \n",
    "    def __init__(self, sequence):\n",
    "        self.sequence = sequence\n",
    "\n",
    "        \n",
    "    def __len__(self):\n",
    "        return len(self.sequence)\n",
    "    \n",
    "    \n",
    "    def __getitem__(self, slc):\n",
    "        return self.sequence[slc]\n",
    "    \n",
    "    \n",
    "    def __repr__(self):\n",
    "        return self.sequence\n",
    "    \n",
    "    \n",
    "    def check_alphabet(self):\n",
    "        self.sequence = self.sequence.upper()\n",
    "        true_seq = 'ACDEFGHIKLMNPQRSTVWY'\n",
    "        if set(self.sequence) <= set(true_seq):\n",
    "            print('It is okey!')\n",
    "        else:\n",
    "            raise AlphabetError(f'{self.sequence} is not a true biological aminoacid sequence!')\n",
    "            \n",
    "    \n",
    "    def molecular_weight(self):\n",
    "        self.sequence = self.sequence.upper()\n",
    "        amino_weights = {\"A\":89.09, \"R\":174.20, \"N\":132.12, \n",
    "                 \"D\":133.10, \"C\":121.15, \"Q\":146.15, \n",
    "                 \"E\":147.13, \"G\":75.07, \"H\":155.16, \n",
    "                 \"I\":131.17, \"L\":131.17, \"K\":146.19, \n",
    "                 \"M\":149.21, \"F\":165.19, \"P\":115.13, \n",
    "                 \"S\":105.09, \"T\":119.12, \"W\":204.23, \n",
    "                 \"Y\":181.19, \"V\":117.15} \n",
    "        weight = 0\n",
    "        for aa in self.sequence:\n",
    "            weight += amino_weights.get(aa)\n",
    "        return weight\n",
    "        "
   ]
  }
 ],
 "metadata": {
  "kernelspec": {
   "display_name": "Python 3 (ipykernel)",
   "language": "python",
   "name": "python3"
  },
  "language_info": {
   "codemirror_mode": {
    "name": "ipython",
    "version": 3
   },
   "file_extension": ".py",
   "mimetype": "text/x-python",
   "name": "python",
   "nbconvert_exporter": "python",
   "pygments_lexer": "ipython3",
   "version": "3.10.0"
  }
 },
 "nbformat": 4,
 "nbformat_minor": 5
}
