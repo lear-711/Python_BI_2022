{
 "cells": [
  {
   "cell_type": "code",
   "execution_count": 245,
   "id": "2b06bb81",
   "metadata": {},
   "outputs": [],
   "source": [
    "import re\n",
    "import requests\n",
    "import seaborn as sns\n",
    "import pandas as pd"
   ]
  },
  {
   "cell_type": "markdown",
   "id": "6528eb4f",
   "metadata": {},
   "source": [
    "# 1"
   ]
  },
  {
   "cell_type": "markdown",
   "id": "12b27bcd",
   "metadata": {},
   "source": [
    "### Извлекаем из файла ftp ссылки и записываем их в файл ftps"
   ]
  },
  {
   "cell_type": "code",
   "execution_count": 246,
   "id": "14dd8303",
   "metadata": {},
   "outputs": [],
   "source": [
    "response = requests.get(\"https://raw.githubusercontent.com/Serfentum/bf_course/master/15.re/references\")\n",
    "data = response.text"
   ]
  },
  {
   "cell_type": "code",
   "execution_count": 268,
   "id": "20764ca2",
   "metadata": {},
   "outputs": [],
   "source": [
    "pattern = r\"ftp\\.[^;\\s]*\"\n",
    "string = data\n",
    "\n",
    "result = re.findall(pattern, string)\n",
    "result = list(sorted(set(result)))"
   ]
  },
  {
   "cell_type": "code",
   "execution_count": 248,
   "id": "42ffeea3",
   "metadata": {},
   "outputs": [],
   "source": [
    "with open(\"ftps\", \"w\") as ftp_file:\n",
    "    for line in result:\n",
    "        ftp_file.write(f\"{line}\\n\")"
   ]
  },
  {
   "cell_type": "markdown",
   "id": "74308bac",
   "metadata": {},
   "source": [
    "# 2"
   ]
  },
  {
   "cell_type": "markdown",
   "id": "1e92a5b4",
   "metadata": {},
   "source": [
    "### Извлекаем из рассказа все числа"
   ]
  },
  {
   "cell_type": "code",
   "execution_count": 249,
   "id": "8ab62886",
   "metadata": {},
   "outputs": [],
   "source": [
    "story_link = requests.get(\"https://raw.githubusercontent.com/Serfentum/bf_course/master/15.re/2430AD\")\n",
    "story = story_link.text"
   ]
  },
  {
   "cell_type": "code",
   "execution_count": 251,
   "id": "27f88336",
   "metadata": {},
   "outputs": [],
   "source": [
    "pattern = r\"\\d+\\.*\\d+\"\n",
    "string = story\n",
    "\n",
    "result_story = re.findall(pattern, string)"
   ]
  },
  {
   "cell_type": "code",
   "execution_count": 252,
   "id": "8cf73ea0",
   "metadata": {},
   "outputs": [
    {
     "name": "stdout",
     "output_type": "stream",
     "text": [
      "['2430', '1969', '2430', '2430', '57', '57', '1970', '3.68', '35', '460', '2430']\n"
     ]
    }
   ],
   "source": [
    "print(result_story)"
   ]
  },
  {
   "cell_type": "markdown",
   "id": "82c70cb1",
   "metadata": {},
   "source": [
    "# 3"
   ]
  },
  {
   "cell_type": "markdown",
   "id": "36c89b98",
   "metadata": {},
   "source": [
    "### Извлекаем из рассказа все слова, где есть буква \"а\" (регистр не важен)"
   ]
  },
  {
   "cell_type": "code",
   "execution_count": 253,
   "id": "0a4868aa",
   "metadata": {},
   "outputs": [],
   "source": [
    "pattern = r\"\\w*[aA]\\w*\"\n",
    "string = story\n",
    "\n",
    "result_story_a = re.findall(pattern, string)"
   ]
  },
  {
   "cell_type": "code",
   "execution_count": 254,
   "id": "b9b79e6a",
   "metadata": {
    "collapsed": true
   },
   "outputs": [
    {
     "name": "stdout",
     "output_type": "stream",
     "text": [
      "['A', 'and', 'dawn', 'and', 'all', 'ache', 'have', 'a', 'nightmare', 'a', 'are', 'all', 'and', 'a', 'gleam', 'anywhere', 'an', 'original', 'a', 'personality', 'packed', 'talk', 'said', 'Alvarez', 'said', 'Social', 'eventually', 'An', 'character', 'escaped', 'adjustment', 'talking', 'irritates', 'past', 'tact', 'along', 'Trail', 'was', 'as', 'always', 'sparsely', 'have', 'taken', 'and', 'Alvarez', 'walking', 'Alvarez', 'was', 'tall', 'and', 'rather', 'athletic', 'a', 'muscular', 'activities', 'stairs', 'and', 'rampways', 'instance', 'almost', 'an', 'character', 'and', 'avoided', 'sunlamps', 'and', 'was', 'pale', 'said', 'want', 'can', 'have', 'square', 'space', 'and', 'has', 'apartment', 'Rather', 'a', 'a', 'way', 'said', 'Alvarez', 'And', 'a', 'Alvarez', 'added', 'matter', 'reach', 'peak', 'reach', 'reach', 'goal', 'All', 'mankind', 'And', 'said', 'at', 'that', 'way', 'that', 'against', 'plastic', 'passed', 'and', 'saw', 'distance', 'was', 'a', 'plankton', 'varieties', 'almost', 'that', 'above', 'far', 'above', 'was', 'giant', 'leading', 'sea', 'And', 'another', 'as', 'large', 'far', 'leading', 'sea', 'destination', 'was', 'a', 'back', 'that', 'thousands', 'had', 'passed', 'was', 'about', 'an', 'intangible', 'and', 'space', 'wall', 'was', 'blank', 'And', 'was', 'air', 'said', 'Alvarez', 'Inhuman', 'Literally', 'said', 'at', 'easy', 'signaled', 'waited', 'all', 'around', 'disregarded', 'manner', 'was', 'always', 'Cranwitz', 'was', 'waiting', 'same', 'all', 'gray', 'hair', 'and', 'uneasily', 'May', 'asked', 'Alvarez', 'Cranwitz', 'was', 'Cranwitz', 'and', 'sat', 'Cranwitz', 'remained', 'standing', 'and', 'said', 'Alvarez', 'said', 'ask', 'capacity', 'as', 'Representative', 'as', 'Representative', 'are', 'ready', 'social', 'Cranwitz', 'finally', 'was', 'and', 'had', 'clear', 'throat', 'want', 'said', 'have', 'a', 'contract', 'standing', 'family', 'has', 'always', 'had', 'all', 'and', 'said', 'irritably', 'asking', 'accede', 'voluntarily', 'Alvarez', 'understand', 'situation', 'what', 'was', 'father', 'really', 'what', 'was', 'last', 'year', 'Cranwitz', 'jaw', 'that', 'rate', 'has', 'year', 'amount', 'and', 'has', 'changed', 'That', 'year', 'year', 'year', 'carry', 'Alvarez', 'was', 'year', 'was', 'and', 'said', 'year', 'reached', 'goal', 'rate', 'exactly', 'matches', 'death', 'rate', 'population', 'exactly', 'steady', 'replacement', 'and', 'sea', 'farms', 'are', 'a', 'steady', 'state', 'stand', 'all', 'mankind', 'and', 'Because', 'a', 'Because', 'a', 'And', 'creatures', 'Guinea', 'Rabbits', 'and', 'lizards', 'haven', 'taken', 'a', 'all', 'What', 'harm', 'What', 'demanded', 'Cranwitz', 'said', 'at', 'was', 'a', 'Alvarez', 'had', 'heard', 'that', 'said', 'as', 'sympathy', 'as', 'and', 'a', 'certain', 'amount', 'real', 'sympathy', 'was', 'a', 'ago', 'vast', 'care', 'And', 'years', 'that', 'dinosaurs', 'have', 'man', 'ignorant', 'can', 'compare', 'real', 'asked', 'Cranwitz', 'was', 'larger', 'said', 'Cranwitz', 'Year', 'year', 'had', 'many', 'All', 'large', 'animals', 'All', 'carnivores', 'small', 'plants', 'creatures', 'Alvarez', 'said', 'What', 'wants', 'Mankind', 'against', 'Social', 'persuade', 'against', 'real', 'resistance', 'want', 'really', 'are', 'What', 'Alvarez', 'was', 'insinuating', 'Cranwitz', 'sat', 'A', 'certain', 'Someday', 'reach', 'Mankind', 'want', 'animals', 'want', 'start', 'a', 'variety', 'faded', 'stare', 'said', 'What', 'are', 'reached', 'said', 'Cranwitz', 'and', 'established', 'a', 'and', 'abandoned', 'all', 'solar', 'capable', 'human', 'Cranwitz', 'said', 'are', 'stars', 'Earthlike', 'Alvarez', 'head', 'reach', 'have', 'finally', 'Earth', 'and', 'human', 'have', 'made', 'and', 'Earth', 'margin', 'a', 'starship', 'capable', 'years', 'space', 'Have', 'wasn', 'last', 'said', 'Cranwitz', 'was', 'said', 'Alvarez', 'haven', 'romanticized', 'madness', 'was', 'a', 'and', 'was', 'and', 'reason', 'than', 'half', 'substance', 'war', 'and', 'preparations', 'war', 'ran', 'wasted', 'and', 'at', 'chance', 'and', 'tolerated', 'deviants', 'all', 'dreaded', 'what', 'called', 'population', 'and', 'dreamed', 'reaching', 'as', 'a', 'escape', 'combination', 'and', 'advances', 'that', 'changed', 'case', 'are', 'was', 'establishment', 'a', 'and', 'art', 'planetary', 'peace', 'and', 'a', 'placid', 'humanity', 'peacefully', 'and', 'multiplication', 'was', 'advance', 'exactly', 'many', 'Earth', 'many', 'calories', 'reached', 'Earth', 'and', 'that', 'many', 'carbon', 'plants', 'each', 'year', 'and', 'many', 'animal', 'plants', 'Earth', 'animal', 'Cranwitz', 'finally', 'And', 'all', 'human', 'Exactly', 'meant', 'all', 'animal', 'That', 'way', 'said', 'angrily', 'Alvarez', 'again', 'Cranwitz', 'said', 'replaced', 'placoderms', 'had', 'replaced', 'replaced', 'amphibians', 'and', 'replaced', 'mammals', 'at', 'last', 'has', 'reached', 'peak', 'Earth', 'bears', 'population', 'human', 'demanded', 'Cranwitz', 'vast', 'all', 'face', 'land', 'plants', 'and', 'animals', 'what', 'have', 'And', 'all', 'uninhabited', 'ocean', 'has', 'a', 'plankton', 'plankton', 'harvest', 'and', 'as', 'organic', 'matter', 'plankton', 'said', 'Alvarez', 'war', 'are', 'regulated', 'deaths', 'are', 'peaceful', 'infants', 'are', 'genetically', 'adjusted', 'and', 'Earth', 'are', 'normal', 'brain', 'largest', 'conceivable', 'quantity', 'conceivable', 'matter', 'And', 'all', 'that', 'brain', 'what', 'heaved', 'an', 'audible', 'exasperation', 'Alvarez', 'calm', 'said', 'destination', 'Perhaps', 'animals', 'Earth', 'was', 'was', 'necessary', 'and', 'take', 'chances', 'was', 'wasteful', 'Earth', 'was', 'had', 'and', 'had', 'after', 'mankind', 'came', 'had', 'learn', 'way', 'was', 'learning', 'had', 'take', 'chances', 'attempt', 'mad', 'mankind', 'has', 'have', 'planet', 'and', 'Alvarez', 'paused', 'that', 'said', 'want', 'Cranwitz', 'wants', 'generation', 'that', 'has', 'reached', 'and', 'want', 'having', 'reached', 'animals', 'are', 'way', 'Cranwitz', 'head', 'take', 'all', 'have', 'what', 'human', 'said', 'human', 'another', 'human', 'brain', 'what', 'measure', 'can', 'evaluate', 'human', 'brain', 'already', 'have', 'said', 'Alvarez', 'and', 'that', 'and', 'are', 'All', 'Earth', 'prepared', 'celebrate', 'year', 'AD', 'year', 'that', 'planet', 'at', 'last', 'goal', 'achieved', 'all', 'Shall', 'fan', 'a', 'flaw', 'a', 'flaw', 'Cranwitz', 'Earth', 'has', 'waiting', 'years', 'wait', 'cannot', 'and', 'voluntarily', 'a', 'said', 'all', 'say', 'that', 'Cranwitz', 'acted', 'and', 'that', 'act', 'was', 'reached', 'And', 'Cranwitz', 'said', 'imitating', 'And', 'say', 'that', 'Alvarez', 'and', 'persuaded', 'said', 'Alvarez', 'audible', 'annoyance', 'Cranwitz', 'can', 'against', 'Whatever', 'and', 'that', 'way', 'are', 'an', 'idealist', 'can', 'that', 'last', 'many', 'Cranwitz', 'and', 'Alvarez', 'hand', 'waved', 'and', 'said', 'a', 'remained', 'Cranwitz', 'Can', 'have', 'day', 'animals', 'And', 'And', 'stand', 'mankind', 'and', 'And', 'Alvarez', 'said', 'And', 'and', 'vast', 'continental', 'human', 'placidly', 'human', 'placidly', 'ate', 'half', 'a', 'carefully', 'made', 'talked', 'heat', 'ran', 'machinery', 'organized', 'libraries', 'amused', 'and', 'varied', 'machinery', 'repaired', 'plankton', 'planetary', 'ocean', 'basked', 'and', 'and', 'and', 'and', 'and', 'transferred', 'and', 'that', 'And', 'human', 'wastes', 'gathered', 'and', 'irradiated', 'and', 'and', 'human', 'and', 'treated', 'and', 'and', 'was', 'back', 'ocean', 'And', 'all', 'was', 'as', 'had', 'decades', 'and', 'millennia', 'Cranwitz', 'creatures', 'a', 'last', 'guinea', 'a', 'gaze', 'a', 'blade', 'grass', 'all', 'last', 'Earth', 'that', 'humans', 'humans', 'and', 'seared', 'plants', 'and', 'cages', 'and', 'animals', 'appropriate', 'vapors', 'and', 'and', 'last', 'was', 'and', 'mankind', 'and', 'was', 'Cranwitz', 'departed', 'Cranwitz', 'also', 'vapors', 'and', 'want', 'And', 'after', 'that', 'was', 'really', 'all', 'Earth', 'all', 'inhabitants', 'and', 'all', 'human', 'brain', 'was', 'Cranwitz', 'unusual', 'idea', 'universal', 'placidity', 'that', 'meant', 'that', 'had', 'at', 'last', 'achieved', 'A', 'was', 'and', 'had', 'paid', 'fears', 'unallayed', 'That', 'had', 'accepted', 'was', 'had', 'taken', 'was', 'GREATEST', 'ASSET', 'Campbell', 'same', 'again', 'years', 'and', 'Magazine', 'said', 'was', 'handing', 'that', 'had', 'at', 'a', 'and', 'said', 'necessarily', 'agree', 'another', 'read', 'and', 'hadn', 'about', 'crazy', 'about', 'unable', 'because', 'was', 'ashamed', 'and', 'was', 'great', 'man', 'feared', 'as', 'jackass', 'taking', 'that', 'had', 'added', 'favor', 'many', 'many', 'had', 'And', 'case', 'as', 'that', 'years', 'have', 'far', 'than', 'years', 'stayed', 'and', 'that', 'population', 'Earth', 'estimated', 'rate', 'increase', 'that', 'population', 'years', 'rate', 'Increase', 'can', 'maintained', 'years', 'year', 'A', 'human', 'and', 'equal', 'total', 'animal', 'Earth', 'that', 'above']\n"
     ]
    }
   ],
   "source": [
    "print(result_story_a)"
   ]
  },
  {
   "cell_type": "markdown",
   "id": "7ace9fdf",
   "metadata": {},
   "source": [
    "# 4"
   ]
  },
  {
   "cell_type": "markdown",
   "id": "ddb2bb76",
   "metadata": {},
   "source": [
    "### Извлекаем из рассказа восклицательные предложения"
   ]
  },
  {
   "cell_type": "code",
   "execution_count": 255,
   "id": "7e280f93",
   "metadata": {},
   "outputs": [],
   "source": [
    "pattern = r\"[^.\\\"]*!\"\n",
    "string = story\n",
    "\n",
    "result_story_exc = re.findall(pattern, string)"
   ]
  },
  {
   "cell_type": "code",
   "execution_count": 256,
   "id": "05541097",
   "metadata": {},
   "outputs": [
    {
     "name": "stdout",
     "output_type": "stream",
     "text": [
      "['Yes!', 'Literally!', ' There was once a time! Centuries ago!', 'Think, Cranwitz!', 'If we succeed!']\n"
     ]
    }
   ],
   "source": [
    "print(result_story_exc)"
   ]
  },
  {
   "cell_type": "markdown",
   "id": "0b006c7a",
   "metadata": {},
   "source": [
    "# 5"
   ]
  },
  {
   "cell_type": "code",
   "execution_count": 269,
   "id": "6c6def77",
   "metadata": {},
   "outputs": [],
   "source": [
    "pattern = r\"\\w+'\\w+|\\w+\"\n",
    "string = story\n",
    "\n",
    "result_story_hist = re.findall(pattern, string)"
   ]
  },
  {
   "cell_type": "markdown",
   "id": "2d234bee",
   "metadata": {},
   "source": [
    "### Отбираем только уникальные слова и числа"
   ]
  },
  {
   "cell_type": "code",
   "execution_count": 258,
   "id": "200c0370",
   "metadata": {},
   "outputs": [],
   "source": [
    "new_result = []\n",
    "for i in result_story_hist:\n",
    "    i = i.lower()\n",
    "    new_result.append(i)\n",
    "new_result = set(new_result)"
   ]
  },
  {
   "cell_type": "markdown",
   "id": "8f830d2d",
   "metadata": {},
   "source": [
    "### Делаем массив с длинами уникальных слов"
   ]
  },
  {
   "cell_type": "code",
   "execution_count": 259,
   "id": "63d37c74",
   "metadata": {},
   "outputs": [],
   "source": [
    "len_result = []\n",
    "for i in new_result:\n",
    "    len_i = len(i)\n",
    "    len_result.append(len_i)"
   ]
  },
  {
   "cell_type": "code",
   "execution_count": 260,
   "id": "2df0af98",
   "metadata": {
    "collapsed": true
   },
   "outputs": [
    {
     "name": "stdout",
     "output_type": "stream",
     "text": [
      "{'steady', 'asked', 'men', 'york', 'activities', \"i've\", 'newton', 'giant', 'is', 'calories', 'evolution', 'eyes', 'regulated', 'future', 'everything', 'word', 'two', 'prolific', 'dreamed', 'odd', 'twentieth', 'placid', \"we've\", 'sullen', 'up', 'show', 'really', 'species', 'dry', 'ground', 'blade', 'the', 'zoo', 'millions', 'uniformity', 'necessity', 'after', 'someday', 'end', 'heat', 'many', 'unallayed', 'books', 'having', 'either', 'should', 'energy', 'death', 'cold', 'pure', 'advance', 'hold', 'combination', 'brightened', 'madness', 'else', \"other's\", 'scientific', 'dried', 'system', 'humanity', 'peacefully', 'numbered', 'quite', 'shall', 'wants', 'world', 'billion', 'science', 'd', 'that', 'talked', 'birds', 'left', \"there's\", '35', 'stand', 'idea', 'longer', 'variety', 'passed', 'tell', 'talk', 'wore', \"they're\", 'measure', \"they'll\", 'time', 'force', 'sunlamps', 'population', 'clear', 'evaluate', 'does', 'maintained', 'something', 'animals', 'engineering', 'escaped', 'cells', 'supporting', 'conveyors', 'anywhere', 'replacement', 'endless', 'smell', 'every', 'wastes', 'census', 'conduit', 'varieties', \"alvarez's\", 'stare', 'agree', 'lips', 'corpses', 'lightly', 'supported', 'such', 'somehow', 'normal', 'enjoyed', 'space', 'generation', 'prepared', 'b', 'said', 'made', 'sounded', 'effort', 'begin', 'yes', 'learning', 'fan', 'clothes', 'real', 'genetic', 'your', 'dioxide', 'attempt', 'family', 'footsteps', 'spoke', 'deviants', 'above', 'dolefully', 'year', 'must', 'itself', 'trying', 'gone', 'months', 'some', 'door', \"needn't\", 'gently', 'before', 'birth', 'greatest', 'period', 'manner', 'represent', 'sea', 'these', 'swung', 'yield', 'shifting', 'ache', 'and', 'miles', 'hundred', 'unbroken', 'kept', 'be', 'keep', \"we'll\", 'without', 'using', 'called', 'feet', 'billions', 'impossible', 'together', 'endlessly', 'trail', 'chance', 'dwelling', 'taking', 'forms', 'though', 'nothing', 'bought', 'established', 'empty', 'new', 'scooped', 'other', 'whom', 'much', 'rid', 'conceivable', 'our', 'fugitive', 'reached', 'restore', 'enough', 'weight', 'pounds', 'achieved', 'surprise', 'routine', 'come', 'been', 'could', 'most', 'it', 'correspondingly', 'feverishness', 'rounder', 'extent', 'on', 'ignorant', 'creatures', 'ten', 'once', 'different', 'forethought', 'their', 'tons', 'dawn', 'of', 'crime', 'ran', 'sigh', 'he', 'short', 'disturb', 'ibm', 'resistance', 'repaired', 'strips', 'asking', 'lived', '460', 'striving', 'twenty', 'unsettling', 'grew', 'entirely', 'disconcerting', 'expect', 'necessary', 'neurotic', 'always', 'norm', 'doubles', 'at', 'studied', 'sympathy', 'rich', 'cranwitz', 'might', 'ecology', 'enlightened', 'things', 'seven', 'to', 'hair', 'harvest', 'carnivores', 'uneasily', 'whether', 'earth', 'forget', 'carry', 'we', 'again', 'forever', 'earthlike', 'odor', 'one', 'when', 'peak', 'support', 'published', 'tended', 'muted', 'go', 'carbon', 'moved', 'economy', 'stairs', 'silence', 'throat', 'my', 'good', 'recognize', 'worlds', '2430', 'goal', 'thin', 'need', 'tortoise', 'write', 'abandoned', 'just', 'as', 'plentiful', 'air', 'easy', 'out', 'events', 'distortions', 'nor', 'bound', 'computers', 'millennia', 'mad', 'city', 'edge', 'placidly', 'own', 'vehicles', 'eye', 'meant', 'destination', 'enjoy', 'till', 'dredges', 'person', 'now', 'worked', \"bunting's\", 'heightened', 'ate', 'circling', 'from', 'thing', 'thoughts', 'cherished', '3', 'with', 'beings', 'years', 'each', 'paused', 'muttered', 'see', 'john', 'figure', 'poisoned', \"what's\", 'literally', 'state', 'about', 'off', 'knew', 'unusual', 'pool', 'whiff', 'persuade', 'underfoot', 'motives', 'varied', 'romanticized', 'j', 'has', 'care', 'himself', 'how', 'touched', 'occupied', 'honored', 'corridor', 'annoyance', 'in', 'original', 'rock', 'behind', 'into', 'microfilms', 'favor', \"haven't\", 'become', 'bears', 'heard', 'whole', 'acted', 'complex', 'knit', 'dropped', 'hand', 'conduits', 'leading', 'insinuating', 'capable', 'love', 'athletic', 'larger', 'whose', 'direction', 'jackass', 'his', 'because', 'friend', 'demanded', 'have', 'those', 'slightly', 'case', \"father's\", 'wall', 'departed', 'crushed', 'whispered', 'sink', 'journey', 'standing', 'beside', 'mammals', 'tact', 'shrugged', 'art', 'brought', 'down', 'organic', 'estimated', 'written', 'role', 'choked', 'crowds', 'there', 'voluntarily', 'rebelliously', 'guinea', 'known', 'ashamed', 'centuries', 'alvarez', 'quirked', 'no', 'audible', 'confined', 'flaw', 'saw', 'placoderms', 'flesh', 'cheeks', 'gaze', 'soup', 'few', 'choice', 'libraries', 'right', 'counted', 'sickening', 'succeed', 'life', 'generously', 'bloc', 'genius', 'feed', 'done', 'equal', 'multiplication', 'residue', 'sat', 'globe', 'ocean', 'square', 'face', 'experiment', 'minutes', 'people', 'margin', 'process', 'great', 'kinds', 'accepted', 'angrily', 'executive', 'humans', 'fixed', 'stars', 'comply', 'killed', 'still', 'adjusted', 'hundreds', 'refuse', 'side', 'crowned', 'wiped', 'or', 'killing', 'close', 'government', 'power', 'genetically', 'through', 'remained', 'first', 'rabbits', 'jaw', 'reach', 'went', 'vast', 'appropriate', 'involved', 'exasperation', 'treated', 'chances', 'an', 'can', 'universe', 'pale', 'grass', 'fears', 'fiction', 'kind', 'war', 'say', 'single', 'births', 'intangible', 'rejected', 'opened', 'them', 'certain', 'dryly', 'filled', 'came', 'took', 'win', 'gathered', 'gray', 'seemed', 'wasteful', 'added', 'softer', 'credit', 'prohibitive', 'more', 'which', 'immersing', 'peaceful', 'reptiles', 'waited', 'build', 'so', 'exquisite', 'quivered', 'around', 'toleosts', 'waiting', 'think', 'food', 'rampways', 'whatever', 'slow', 'grisly', 'were', 'plankton', 'level', 'dinosaurs', 'insist', 'peace', 'uncomprehending', 'dreaded', 'moving', 'start', 'moon', 'necessarily', 'fifty', 'turn', 'character', 'substance', 'fifteen', 'heaved', 'who', 'crept', 'bit', 'mind', \"won't\", 'replaced', 'already', 'finally', 'why', 'five', 'human', 'thousands', 'light', 'govern', 'escape', 'another', 'ad', 'wounds', 'would', \"wouldn't\", 'computerized', 'too', 'a', 'large', 'this', 'tens', 'fusion', 'green', 'softly', 'idealist', 'considered', 'color', 'only', 'crossing', 'never', 'fun', 'reaching', 'colonize', 'eventually', 'transferred', 'faded', 'story', 'unable', 'over', 'harm', 'conditions', 'carefully', 'head', 'needed', 'exactly', 'personality', 'soon', 'rumpled', 'tested', 'ask', 'pigs', 'decades', 'felt', 'seventy', 'sleep', 'packed', 'amphibians', 'sure', 'between', 'perfection', 'worry', 'way', 'below', 'basked', 'back', 'indeed', 'its', 'doing', 'tiny', 'explosion', 'by', 'quietly', 'symmetry', 'century', 'open', \"couldn't\", 'worried', 'exploited', 'fingers', 'if', 'us', 'signaled', 'pig', 'rather', 'remind', 'except', 'celebrate', 'look', 'hostile', 'half', 'lifted', \"shouldn't\", 'ones', 'contract', 'know', \"we're\", 'blood', 'computer', 'history', 'rooms', 'vice', 'vapors', 'bunting', 'room', 'stepped', 'feared', 'distinction', 'against', 'small', 'for', 'total', 'get', 'conviction', 'all', 'matches', 'trees', 'inhabitants', 'crosscorridors', 'deaths', 'mighty', 'persuaded', \"doesn't\", 'social', 'inhuman', 'starship', 'gleam', 'did', 'withhold', 'capacity', 'blank', 'walking', 'spent', 'increase', 'going', 'even', 'crazy', 'tall', 'office', 'want', 'largest', 'comes', 'cannot', 'building', 'stroked', 'past', \"he'll\", 'compare', 'shook', 'reason', 'planet', 'bloodshot', 'priestly', 'changed', 'irritates', 'smelled', 'neither', 'was', 'simple', 'courtesy', \"cranwitz's\", 'being', 'snorted', '1969', 'tolerated', 'used', 'well', 'sector', 'million', 'under', 'broke', 'distance', 'wait', 'quantity', 'thinking', \"didn't\", 'ago', 'looked', \"it's\", 'while', 'woke', 'middle', 'advances', 'they', 'do', \"let's\", 'colony', 'organized', 'editor', 'very', 'long', 'then', 'hours', \"that's\", 'ready', 'establishment', 'universal', 'inside', 'fit', 'handing', 'pressure', 'let', 'machinery', 'same', 'imitating', \"you're\", 'farms', 'note', 'often', 'deep', 'i', 'construction', 'also', 'apartment', 'voice', 'corner', 'asset', 'fulfilled', 'soil', 'paid', 'magazine', 'enter', 'may', 'everyone', 'found', 'learn', 'irritably', 'hero', 'knee', 'calm', 'far', 'lizards', 'crowded', 'worthwhile', 'question', 'will', 'wasted', 'day', 'perhaps', 'settle', 'set', '68', 'him', 'instance', 'course', 'descriptions', 'campbell', \"hadn't\", 'disregarded', 'routinely', 'nightmare', 'land', 'registered', 'plants', 'growth', 'doomed', 'placidity', 'sparsely', 'hope', 'sunlight', 'waved', 'but', 'mice', 'muscular', 'taken', 'closed', 'planetary', 'fellows', 'living', 'take', 'trilobites', 'you', '1970', 'thought', 'situation', 'difference', 'last', 'words', 'like', 'confuse', 'almost', 'man', 'are', 'vision', 'rate', 'microfilm', 'stood', 'yourself', 'stubbornly', 'development', 'irradiated', 'cages', 'divided', 'nothingness', 'myself', 'brain', 'uninhabited', 'mankind', 'tone', 'representative', 'told', 'pump', 'amount', 'continental', 'than', 'home', 'matter', 'slept', 'understand', 'plastic', 'what', 'talking', 'here', 'me', 'infinite', 'numbers', 'stronger', 'trillion', 'consume', 'midnight', 'seared', 'amused', 'accede', 'goes', 'read', '57', \"don't\", 'animal', 'utterly', 'scorn', 'briefly', 'flooded', 'multiply', 'survive', 'solar', 'trillions', 'fed', 'had', 'instinct', 'adjustment', 'avoided', \"wasn't\", 'preparations', 'foolish', 'sun', 'old', 'hum', 'buildings', 'along', 'live', 'infants', \"i'll\", 'stayed', 'present', 'not', 'little', 'act'}\n"
     ]
    }
   ],
   "source": [
    "print(new_result)"
   ]
  },
  {
   "cell_type": "code",
   "execution_count": 261,
   "id": "f76dd899",
   "metadata": {
    "collapsed": true
   },
   "outputs": [
    {
     "name": "stdout",
     "output_type": "stream",
     "text": [
      "[6, 5, 3, 4, 10, 4, 6, 5, 2, 8, 9, 4, 9, 6, 10, 4, 3, 8, 7, 3, 9, 6, 5, 6, 2, 4, 6, 7, 3, 6, 5, 3, 3, 8, 10, 9, 5, 7, 3, 4, 4, 9, 5, 6, 6, 6, 6, 5, 4, 4, 7, 4, 11, 10, 7, 4, 7, 10, 5, 6, 8, 10, 8, 5, 5, 5, 5, 7, 7, 1, 4, 6, 5, 4, 7, 2, 5, 4, 6, 7, 6, 4, 4, 4, 7, 7, 7, 4, 5, 8, 10, 5, 8, 4, 10, 9, 7, 11, 7, 5, 10, 9, 8, 11, 7, 5, 5, 6, 6, 7, 9, 9, 5, 5, 4, 7, 7, 9, 4, 7, 6, 7, 5, 10, 8, 1, 4, 4, 7, 6, 5, 3, 8, 3, 7, 4, 7, 4, 7, 7, 6, 9, 5, 8, 5, 9, 4, 4, 6, 6, 4, 6, 4, 4, 7, 6, 6, 5, 8, 6, 6, 9, 3, 5, 5, 5, 8, 4, 3, 5, 7, 8, 4, 2, 4, 5, 7, 5, 6, 4, 8, 10, 8, 9, 5, 6, 8, 6, 5, 6, 7, 6, 11, 5, 3, 7, 5, 4, 4, 3, 11, 3, 8, 7, 7, 6, 6, 6, 8, 8, 7, 4, 4, 5, 4, 2, 15, 12, 7, 6, 2, 8, 9, 3, 4, 9, 11, 5, 4, 4, 2, 5, 3, 4, 2, 5, 7, 3, 10, 8, 6, 6, 5, 3, 8, 6, 10, 4, 8, 13, 6, 9, 8, 6, 4, 7, 2, 7, 8, 4, 8, 5, 7, 11, 6, 5, 2, 4, 7, 10, 8, 7, 5, 6, 5, 2, 5, 7, 9, 4, 3, 4, 4, 7, 9, 6, 5, 2, 6, 5, 7, 6, 7, 6, 2, 4, 9, 6, 4, 4, 4, 4, 8, 5, 9, 4, 2, 9, 3, 4, 3, 6, 11, 3, 5, 9, 9, 3, 4, 4, 8, 3, 8, 3, 5, 11, 5, 4, 7, 6, 3, 6, 9, 10, 3, 8, 4, 5, 8, 9, 1, 4, 6, 5, 4, 6, 8, 3, 4, 6, 8, 6, 9, 5, 5, 3, 4, 7, 4, 5, 8, 9, 7, 6, 12, 1, 3, 4, 7, 3, 7, 8, 7, 8, 9, 2, 8, 4, 6, 4, 10, 5, 7, 6, 5, 5, 5, 5, 7, 4, 7, 4, 8, 7, 11, 7, 4, 8, 6, 5, 9, 7, 3, 7, 6, 8, 4, 5, 8, 4, 8, 4, 8, 7, 9, 4, 7, 8, 6, 7, 4, 8, 3, 7, 4, 7, 9, 7, 4, 6, 6, 5, 11, 12, 6, 5, 7, 9, 7, 7, 2, 7, 8, 4, 3, 10, 5, 6, 4, 4, 3, 6, 9, 5, 7, 9, 7, 4, 10, 4, 6, 4, 4, 5, 14, 7, 3, 5, 5, 6, 4, 10, 7, 6, 6, 7, 5, 5, 8, 7, 9, 6, 5, 5, 6, 6, 5, 8, 8, 6, 4, 7, 5, 2, 7, 5, 10, 5, 11, 7, 8, 5, 7, 3, 5, 4, 4, 11, 8, 12, 7, 7, 2, 3, 8, 4, 5, 5, 7, 4, 3, 3, 6, 6, 10, 8, 6, 4, 7, 5, 6, 4, 4, 3, 8, 4, 6, 8, 5, 6, 6, 11, 4, 5, 9, 8, 8, 6, 5, 2, 9, 8, 6, 8, 7, 5, 4, 8, 8, 4, 6, 4, 8, 5, 9, 6, 5, 15, 7, 6, 5, 4, 11, 5, 4, 9, 9, 7, 6, 3, 5, 3, 4, 5, 8, 7, 7, 3, 4, 5, 9, 5, 6, 6, 7, 2, 6, 5, 8, 12, 3, 1, 5, 4, 4, 6, 5, 6, 8, 10, 5, 4, 8, 5, 3, 8, 8, 10, 11, 5, 5, 6, 4, 4, 10, 9, 4, 6, 7, 11, 4, 7, 6, 3, 4, 7, 4, 7, 5, 6, 10, 4, 7, 10, 5, 3, 5, 6, 4, 6, 3, 5, 4, 9, 2, 7, 8, 7, 4, 8, 7, 9, 7, 2, 2, 8, 3, 6, 6, 6, 9, 4, 7, 4, 6, 9, 4, 8, 4, 5, 5, 8, 7, 5, 4, 6, 7, 4, 7, 6, 11, 7, 5, 3, 5, 3, 10, 3, 7, 5, 11, 14, 6, 6, 9, 7, 6, 7, 8, 5, 3, 8, 8, 5, 7, 5, 8, 5, 4, 5, 4, 6, 4, 7, 5, 6, 8, 7, 4, 5, 7, 5, 6, 6, 9, 8, 7, 9, 7, 7, 3, 6, 8, 10, 5, 7, 4, 9, 4, 4, 6, 7, 5, 5, 8, 4, 8, 8, 6, 3, 6, 4, 5, 4, 6, 8, 4, 2, 5, 6, 9, 6, 4, 4, 4, 5, 6, 5, 13, 9, 6, 3, 7, 8, 3, 9, 4, 9, 6, 5, 4, 5, 4, 1, 12, 4, 9, 5, 6, 5, 9, 4, 4, 8, 5, 3, 8, 5, 5, 9, 4, 4, 4, 3, 7, 7, 10, 8, 4, 6, 3, 7, 6, 3, 2, 3, 8, 6, 12, 8, 6, 11, 9, 9, 4, 10, 6, 6, 6, 9, 8, 4, 8, 5, 3, 4, 8, 5, 6, 9, 7, 6, 4, 10, 3, 4, 7, 9, 10, 4, 5, 4, 7, 6, 3, 3, 6, 4, 9, 5, 8, 10, 11, 10, 5, 7, 11, 6, 5, 11, 7, 4, 14, 4, 4, 6, 11, 4, 4, 6, 5, 10, 7, 4, 7, 4, 2, 8, 7, 8, 8, 7, 8, 6, 6, 6, 4, 4, 2, 5, 6, 7, 5, 7, 7, 8, 7, 5, 9, 3, 3, 8, 10, 7, 6, 12, 7, 3, 3, 3, 9, 5, 4, 7, 4, 6, 7, 3, 6, 3]\n"
     ]
    }
   ],
   "source": [
    "print(len_result)"
   ]
  },
  {
   "cell_type": "code",
   "execution_count": 262,
   "id": "9795fecb",
   "metadata": {},
   "outputs": [],
   "source": [
    "set_len = set(len_result)\n",
    "list_len = []\n",
    "for i in set_len:\n",
    "    cnt = len_result.count(i)\n",
    "    list_len.append(cnt)\n"
   ]
  },
  {
   "cell_type": "code",
   "execution_count": 263,
   "id": "03123b9d",
   "metadata": {},
   "outputs": [],
   "source": [
    "sum_len = sum(list_len)\n",
    "part_list = []\n",
    "\n",
    "for i in list_len:\n",
    "    part = i/sum_len\n",
    "    part = round(part, 3)\n",
    "    part_list.append(part)\n"
   ]
  },
  {
   "cell_type": "markdown",
   "id": "80373536",
   "metadata": {},
   "source": [
    "### Создаем датафрейм с длинами слов, их количеством и долей"
   ]
  },
  {
   "cell_type": "code",
   "execution_count": 264,
   "id": "bd06396a",
   "metadata": {
    "collapsed": true
   },
   "outputs": [
    {
     "data": {
      "text/html": [
       "<div>\n",
       "<style scoped>\n",
       "    .dataframe tbody tr th:only-of-type {\n",
       "        vertical-align: middle;\n",
       "    }\n",
       "\n",
       "    .dataframe tbody tr th {\n",
       "        vertical-align: top;\n",
       "    }\n",
       "\n",
       "    .dataframe thead th {\n",
       "        text-align: right;\n",
       "    }\n",
       "</style>\n",
       "<table border=\"1\" class=\"dataframe\">\n",
       "  <thead>\n",
       "    <tr style=\"text-align: right;\">\n",
       "      <th></th>\n",
       "      <th>Word length</th>\n",
       "      <th>Values</th>\n",
       "      <th>Part</th>\n",
       "    </tr>\n",
       "  </thead>\n",
       "  <tbody>\n",
       "    <tr>\n",
       "      <th>0</th>\n",
       "      <td>1</td>\n",
       "      <td>6</td>\n",
       "      <td>0.006</td>\n",
       "    </tr>\n",
       "    <tr>\n",
       "      <th>1</th>\n",
       "      <td>2</td>\n",
       "      <td>27</td>\n",
       "      <td>0.029</td>\n",
       "    </tr>\n",
       "    <tr>\n",
       "      <th>2</th>\n",
       "      <td>3</td>\n",
       "      <td>74</td>\n",
       "      <td>0.079</td>\n",
       "    </tr>\n",
       "    <tr>\n",
       "      <th>3</th>\n",
       "      <td>4</td>\n",
       "      <td>166</td>\n",
       "      <td>0.177</td>\n",
       "    </tr>\n",
       "    <tr>\n",
       "      <th>4</th>\n",
       "      <td>5</td>\n",
       "      <td>146</td>\n",
       "      <td>0.155</td>\n",
       "    </tr>\n",
       "    <tr>\n",
       "      <th>5</th>\n",
       "      <td>6</td>\n",
       "      <td>143</td>\n",
       "      <td>0.152</td>\n",
       "    </tr>\n",
       "    <tr>\n",
       "      <th>6</th>\n",
       "      <td>7</td>\n",
       "      <td>135</td>\n",
       "      <td>0.144</td>\n",
       "    </tr>\n",
       "    <tr>\n",
       "      <th>7</th>\n",
       "      <td>8</td>\n",
       "      <td>102</td>\n",
       "      <td>0.109</td>\n",
       "    </tr>\n",
       "    <tr>\n",
       "      <th>8</th>\n",
       "      <td>9</td>\n",
       "      <td>66</td>\n",
       "      <td>0.070</td>\n",
       "    </tr>\n",
       "    <tr>\n",
       "      <th>9</th>\n",
       "      <td>10</td>\n",
       "      <td>36</td>\n",
       "      <td>0.038</td>\n",
       "    </tr>\n",
       "    <tr>\n",
       "      <th>10</th>\n",
       "      <td>11</td>\n",
       "      <td>24</td>\n",
       "      <td>0.026</td>\n",
       "    </tr>\n",
       "    <tr>\n",
       "      <th>11</th>\n",
       "      <td>12</td>\n",
       "      <td>8</td>\n",
       "      <td>0.009</td>\n",
       "    </tr>\n",
       "    <tr>\n",
       "      <th>12</th>\n",
       "      <td>13</td>\n",
       "      <td>2</td>\n",
       "      <td>0.002</td>\n",
       "    </tr>\n",
       "    <tr>\n",
       "      <th>13</th>\n",
       "      <td>14</td>\n",
       "      <td>3</td>\n",
       "      <td>0.003</td>\n",
       "    </tr>\n",
       "    <tr>\n",
       "      <th>14</th>\n",
       "      <td>15</td>\n",
       "      <td>2</td>\n",
       "      <td>0.002</td>\n",
       "    </tr>\n",
       "  </tbody>\n",
       "</table>\n",
       "</div>"
      ],
      "text/plain": [
       "    Word length  Values   Part\n",
       "0             1       6  0.006\n",
       "1             2      27  0.029\n",
       "2             3      74  0.079\n",
       "3             4     166  0.177\n",
       "4             5     146  0.155\n",
       "5             6     143  0.152\n",
       "6             7     135  0.144\n",
       "7             8     102  0.109\n",
       "8             9      66  0.070\n",
       "9            10      36  0.038\n",
       "10           11      24  0.026\n",
       "11           12       8  0.009\n",
       "12           13       2  0.002\n",
       "13           14       3  0.003\n",
       "14           15       2  0.002"
      ]
     },
     "execution_count": 264,
     "metadata": {},
     "output_type": "execute_result"
    }
   ],
   "source": [
    "len_df = pd.DataFrame(list(zip(list(set_len), list_len, part_list)), columns = ['Word length', 'Values', 'Part'])\n",
    "len_df"
   ]
  },
  {
   "cell_type": "markdown",
   "id": "11eefe22",
   "metadata": {},
   "source": [
    "### Строим barplot "
   ]
  },
  {
   "cell_type": "code",
   "execution_count": 265,
   "id": "1bc879de",
   "metadata": {},
   "outputs": [
    {
     "data": {
      "text/plain": [
       "<AxesSubplot: xlabel='Word length', ylabel='Part'>"
      ]
     },
     "execution_count": 265,
     "metadata": {},
     "output_type": "execute_result"
    },
    {
     "data": {
      "image/png": "[encoded data removed]",
      "text/plain": [
       "<Figure size 640x480 with 1 Axes>"
      ]
     },
     "metadata": {},
     "output_type": "display_data"
    }
   ],
   "source": [
    "sns.barplot(data = len_df, x = 'Word length', y = 'Part')"
   ]
  },
  {
   "cell_type": "markdown",
   "id": "5bedacb5",
   "metadata": {},
   "source": [
    "# 6"
   ]
  },
  {
   "cell_type": "markdown",
   "id": "d21494b0",
   "metadata": {},
   "source": [
    "### Функция для перевода с русского языка на \"кирпичный\" язык"
   ]
  },
  {
   "cell_type": "code",
   "execution_count": 266,
   "id": "5cd06f3e",
   "metadata": {},
   "outputs": [],
   "source": [
    "def rus_to_brick(string):\n",
    "    \n",
    "    # Отбираем слова из текста\n",
    "    pattern_1 = r\"\\w+\"\n",
    "    string_1 = 'Введите строку на русском языке для перевода'\n",
    "    result_translate = re.findall(pattern_1, string_1)\n",
    "    \n",
    "    # Функция для наждения значения по ключу (значение match_obj) в объявленном словаре\n",
    "    def my_match(match_obj):\n",
    "        dict_translate = {\n",
    "        'а':'КА',\n",
    "        'у':'КУ',\n",
    "        'о':'КО',\n",
    "        'е':'КЕ',\n",
    "        'и':'КИ',\n",
    "        'я':'КЯ',\n",
    "        'ю':'КЮ',\n",
    "        'ё':'КЁ',\n",
    "        'э':'КЭ',\n",
    "        'ы':'КЫ',\n",
    "        }\n",
    "        return match_obj.group(0) + dict_translate.get(match_obj.group(0), \"\")\n",
    "    \n",
    "    # Отбираем гласные буквы в словах и ставим после них значения словаря по ключу\n",
    "    pattern_2 = r\"([ауоеияюёэы])\"\n",
    "    result_vowel = []\n",
    "\n",
    "    for s in result_translate:\n",
    "        vowel = re.sub(pattern_2, my_match, s)\n",
    "        result_vowel.append(vowel)\n",
    "    \n",
    "    # Записываем результат в строку\n",
    "    string_result = ''\n",
    "    for w in result_vowel:\n",
    "        string_result += w\n",
    "        string_result += ' '\n",
    "        \n",
    "    return string_result"
   ]
  },
  {
   "cell_type": "markdown",
   "id": "a7486342",
   "metadata": {},
   "source": [
    "# 7"
   ]
  },
  {
   "cell_type": "markdown",
   "id": "f74c8439",
   "metadata": {},
   "source": [
    "### Находим в тексте предложения с заданным количеством слов"
   ]
  },
  {
   "cell_type": "code",
   "execution_count": 267,
   "id": "dc7d3cb9",
   "metadata": {},
   "outputs": [],
   "source": [
    "def extract_n_words(string, count):\n",
    "    \n",
    "    pattern = r\"[^.]*.\"\n",
    "    string = string\n",
    "    result_1 = re.findall(pattern, string)\n",
    "\n",
    "    result = ()\n",
    "    pattern_2 = r\"\\w+\"\n",
    "    for res in result_1:\n",
    "        result_2 = re.findall(pattern_2, res)\n",
    "        if len(result_2) == n:\n",
    "            result = result + (result_2,)\n",
    "\n",
    "    return result"
   ]
  }
 ],
 "metadata": {
  "kernelspec": {
   "display_name": "Python 3 (ipykernel)",
   "language": "python",
   "name": "python3"
  },
  "language_info": {
   "codemirror_mode": {
    "name": "ipython",
    "version": 3
   },
   "file_extension": ".py",
   "mimetype": "text/x-python",
   "name": "python",
   "nbconvert_exporter": "python",
   "pygments_lexer": "ipython3",
   "version": "3.10.0"
  }
 },
 "nbformat": 4,
 "nbformat_minor": 5
}
